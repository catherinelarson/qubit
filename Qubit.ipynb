{
 "cells": [
  {
   "cell_type": "code",
   "execution_count": 455,
   "id": "01c17322",
   "metadata": {},
   "outputs": [],
   "source": [
    "import numpy as np\n",
    "import sympy\n",
    "from IPython.display import display, Latex\n",
    "import random\n",
    "import scipy.linalg as linalg\n",
    "class Qubit:\n",
    "    #runs till like 23 qubits before major drop in quality\n",
    "    size = 1\n",
    "    num_qubits = 0\n",
    "    x=np.array([[0,1],[1,0]])\n",
    "    y=np.array([[0,-1j],[1j,0]])\n",
    "    z=np.array([[1,0],[0,-1]])\n",
    "    I=np.array([[1,0],[0,1]])\n",
    "    \n",
    "    def __init__(self, state):\n",
    "        self.state = state\n",
    "        dim = self.state.shape\n",
    "        for i in dim:\n",
    "            self.size*=i\n",
    "        self.num_qubits = int(np.log2(self.size))\n",
    "        self.state = self._reshape_to_many_dim()\n",
    "        \n",
    "    def _reshape_to_many_dim(self):\n",
    "        #hidden method for reshaping that we use a bit\n",
    "        dim_length = self.num_qubits\n",
    "        new_state = np.full(dim_length, 2)\n",
    "        return np.reshape(self.state, new_state)\n",
    "    \n",
    "    def _reshape_to_two_dim(self):\n",
    "        #hidden method for reshaping that we use a bit\n",
    "        return np.reshape(self.state, [self.size,1])\n",
    "    \n",
    "    def _repr_latex_(self):\n",
    "        #method of representing qubits as strings in latex. goes to two decimal places.\n",
    "        #TODO: make complex numbers prettier\n",
    "        \"\"\"Method for IPython to automatically use LaTeX representation.\"\"\"\n",
    "        temp = self._reshape_to_two_dim()\n",
    "        self.latex_str = ''\n",
    "        for i in range(0, len(temp)):\n",
    "            if(temp[i][0] != 0):\n",
    "                ket_string = (np.binary_repr(i))\n",
    "                while(len(ket_string)<self.num_qubits):\n",
    "                    ket_string = \"0\"+ket_string\n",
    "                self.latex_str += f'${temp[i][0]}|{ket_string}\\\\rangle~+~$'\n",
    "        self.latex_str = self.latex_str[:-4] + \"$\"\n",
    "        return self.latex_str\n",
    "    \n",
    "    def operator_two(self, O, q1, q2):\n",
    "        #specialized function when we act on only two qubits\n",
    "        cols = O.shape[1]\n",
    "        qubits = np.log2(self.size)\n",
    "        tparray = []\n",
    "        for i in range(0, int(qubits)):\n",
    "            tparray.append(i)\n",
    "        tparray[0], tparray[q1-1] = tparray[q1-1], tparray[0]\n",
    "        tparray[1], tparray[q2-1] = tparray[q2-1], tparray[1]\n",
    "        self.state = np.transpose(self.state, tparray)\n",
    "        self.state = np.reshape(self.state, [cols, int(self.size/cols)])\n",
    "        self.state = O@self.state\n",
    "        self.state = self._reshape_to_many_dim()\n",
    "        tp_back_array = []\n",
    "        for i in range(0, len(tparray)):\n",
    "            tp_back_array.append(tparray.index(i))\n",
    "        self.state = np.transpose(self.state, tp_back_array)\n",
    "\n",
    "    def operator(self, O, qubit_array):\n",
    "            self.state = self._operator(O, qubit_array)\n",
    "            \n",
    "    def _operator(self, O, qubit_array):\n",
    "            #generalized function for any size operator\n",
    "            cols = O.shape[1]\n",
    "            qubits = np.log2(self.size)\n",
    "            tparray = []\n",
    "            newArray = self.state.copy()\n",
    "            for i in range(0, int(qubits)):\n",
    "                tparray.append(i)\n",
    "            for i in range(0, len(qubit_array)):\n",
    "                tparray[i], tparray[qubit_array[i]-1] = tparray[qubit_array[i]-1], tparray[i]\n",
    "            newArray = np.transpose(newArray, tparray)\n",
    "            newArray = np.reshape(newArray, [cols, int(self.size/cols)])\n",
    "            newArray = O@newArray\n",
    "            dim_length = self.num_qubits\n",
    "            new_state = np.full(dim_length, 2)\n",
    "            newArray = np.reshape(newArray, new_state)\n",
    "            tp_back_array = []\n",
    "            for i in range(0, len(tparray)):\n",
    "                tp_back_array.append(tparray.index(i))\n",
    "            newArray = np.transpose(newArray, tp_back_array)\n",
    "            return newArray\n",
    "        \n",
    "    def normalize(self):\n",
    "        normal = 0\n",
    "        self.state = self._reshape_to_two_dim()\n",
    "        for i in self.state:\n",
    "            if(i!=0):\n",
    "                if(np.iscomplex(i)):\n",
    "                    normal+=(np.conjugate(i)*i)\n",
    "                else:\n",
    "                    normal+=i**2\n",
    "        if normal == 0:\n",
    "            self.state = self._reshape_to_many_dim()\n",
    "            return\n",
    "        for i in range(0, len(self.state)):\n",
    "            if(self.state[i]!=0):\n",
    "                self.state[i]/=np.sqrt(normal)\n",
    "        self.state = self._reshape_to_many_dim()\n",
    "        \n",
    "    def inner_product(self, bra, ket):\n",
    "        inner_prod = 0\n",
    "        for i in range(0, len(bra)):\n",
    "            if(np.iscomplex(bra[i])):\n",
    "                inner_prod += (np.conjugate(bra[i])*ket[i])\n",
    "            else:\n",
    "                inner_prod += bra[i]*ket[i]\n",
    "        return inner_prod\n",
    "        \n",
    "    def measure(self, q):\n",
    "        self.normalize()\n",
    "        measure_0 = np.array([[1,0],[0,0]])\n",
    "        measure_1 = np.array([[0,0],[0,1]])\n",
    "        state_0 = self._operator(measure_0, [q])\n",
    "        state_0 = np.reshape(state_0, [self.size, 1])\n",
    "        state_1 = self._operator(measure_1, [q])\n",
    "        state_1 = np.reshape(state_1, [self.size, 1])\n",
    "        prob_0 = self.inner_product(state_0, state_0)\n",
    "        prob_1 = self.inner_product(state_1, state_1)\n",
    "        random_number = random.random()\n",
    "        if(random_number <= prob_0):\n",
    "            self.operator(measure_0, [q])\n",
    "        else:\n",
    "            self.operator(measure_1, [q])\n",
    "        self.normalize()\n",
    "        return prob_0, prob_1\n",
    "    \n",
    "    def _construct_hamiltonian_terms(self, matrices, indices, terms):\n",
    "        hamiltonian = np.identity(2**(indices[0]-1))\n",
    "        if(matrices[0]==0):\n",
    "            hamiltonian = np.kron(hamiltonian, self.I)\n",
    "        elif(matrices[0]==1):\n",
    "            hamiltonian = np.kron(hamiltonian, self.x)\n",
    "        elif(matrices[0]==2):\n",
    "            hamiltonian = np.kron(hamiltonian, self.y)\n",
    "        elif(matrices[0]==3):\n",
    "            hamiltonian = np.kron(hamiltonian, self.z)\n",
    "        hamiltonian = np.kron(hamiltonian, np.identity(2**(indices[1]-indices[0]-1)))\n",
    "        if(matrices[1]==0):\n",
    "            hamiltonian = np.kron(hamiltonian, self.I)\n",
    "        elif(matrices[1]==1):\n",
    "            hamiltonian = np.kron(hamiltonian, self.x)\n",
    "        elif(matrices[1]==2):\n",
    "            hamiltonian = np.kron(hamiltonian, self.y)\n",
    "        elif(matrices[1]==3):\n",
    "            hamiltonian = np.kron(hamiltonian, self.z)\n",
    "        hamiltonian = np.kron(hamiltonian, np.identity(2**(terms-indices[1])))\n",
    "        return hamiltonian\n",
    "    \n",
    "    def _construct_hamiltonian(self, terms, T):\n",
    "        H = np.zeros((2**terms, 2**terms))\n",
    "        H = H.astype(np.complex128)\n",
    "        for i in range(1, terms+1):\n",
    "            for j in range(i+1, terms+1):\n",
    "                for k in range(0, 4):\n",
    "                    for l in range(0, 4):\n",
    "                        H += (self._construct_hamiltonian_terms([k,l], [i,j], terms))*np.random.normal(0, 1/(np.sqrt(T)))                    \n",
    "        return H\n",
    "    \n",
    "    def exp_value_time_ev(self, T, N, O, qubit_array):\n",
    "        initial_state = self.state.copy()\n",
    "        self.state = self._reshape_to_two_dim()\n",
    "        dt = T/N\n",
    "        times = []\n",
    "        values = []\n",
    "        for i in range(1, N+1):\n",
    "            H = self._construct_hamiltonian((self.num_qubits), N*dt)\n",
    "            self.state = (linalg.expm(H*dt*1j*-1))@(self.state)\n",
    "            self.state = self._reshape_to_many_dim()\n",
    "            ket = self._operator(O, qubit_array)\n",
    "            ket = np.reshape(ket, [self.size,1])\n",
    "            self.state = self._reshape_to_two_dim()\n",
    "            exp_val = self.inner_product(self.state, ket)\n",
    "            times.append(i*dt)\n",
    "            values.append(np.real(exp_val))\n",
    "        self.state = initial_state.copy()\n",
    "        return times, values\n",
    "        \n",
    "# TODOS:\n",
    "# Write good documentation for everything\n",
    "# Test all functions a bit more rigorously\n",
    "# code cleanup- do a bit of refactoring\n",
    "# see if any optimization can be done\n",
    "# error handling"
   ]
  },
  {
   "cell_type": "code",
   "execution_count": 300,
   "id": "97733d68",
   "metadata": {},
   "outputs": [
    {
     "name": "stdout",
     "output_type": "stream",
     "text": [
      "[0.66666667] [0.33333333]\n"
     ]
    },
    {
     "data": {
      "text/latex": [
       "$0.5773502691896258|100\\rangle~+~$$0.5773502691896258|110\\rangle$"
      ],
      "text/plain": [
       "<__main__.Qubit at 0x222cf6dba50>"
      ]
     },
     "execution_count": 300,
     "metadata": {},
     "output_type": "execute_result"
    }
   ],
   "source": [
    "v =np.zeros((8,1),dtype='float')\n",
    "v[4]=1;v[7]=1;v[6]=1\n",
    "Q = Qubit(v)\n",
    "x=np.array([[0,1],[1,0]])\n",
    "y=np.array([[0,-1j],[1j,0]])\n",
    "z=np.array([[1,0],[0,-1]])\n",
    "O = np.kron(x,z)\n",
    "a,b = Q.measure(3)\n",
    "print(a, b)\n",
    "Q"
   ]
  },
  {
   "cell_type": "code",
   "execution_count": 316,
   "id": "b1734ed7",
   "metadata": {},
   "outputs": [
    {
     "data": {
      "text/latex": [
       "$1.0|000000\\rangle$"
      ],
      "text/plain": [
       "<__main__.Qubit at 0x222d0c0c490>"
      ]
     },
     "execution_count": 316,
     "metadata": {},
     "output_type": "execute_result"
    }
   ],
   "source": [
    "v =np.zeros((2**6,1),dtype='float')\n",
    "v[0] = 1\n",
    "Q = Qubit(v)\n",
    "Q"
   ]
  },
  {
   "cell_type": "code",
   "execution_count": 430,
   "id": "f9c4cdaf",
   "metadata": {},
   "outputs": [],
   "source": [
    "def run_several(steps, Q, O, qubit_array, T, N):\n",
    "    times, evs = Q.exp_value_time_ev(T, N, O, qubit_array)\n",
    "    for i in range(0, steps-1):\n",
    "        a, b = Q.exp_value_time_ev(T, N, O, qubit_array)\n",
    "        for j in range(0, len(evs)):\n",
    "            evs[j] += b[j]\n",
    "    for i in range(0, len(evs)):\n",
    "        evs[i]/=len(evs)\n",
    "    return times, evs"
   ]
  },
  {
   "cell_type": "code",
   "execution_count": 326,
   "id": "d91bf5e3",
   "metadata": {},
   "outputs": [
    {
     "name": "stdout",
     "output_type": "stream",
     "text": [
      "[array([27.33930591]), array([-36033.03035459]), array([3922157.48408702]), array([4.76227751e+11]), array([-1.65536831e+15]), array([4.41845799e+18]), array([-3.62256231e+22]), array([-3.99662863e+26]), array([-5.58017005e+29]), array([1.42739323e+33]), array([4.00918136e+36]), array([2.71852753e+40]), array([-1.25723561e+44]), array([1.2658608e+48]), array([1.94085149e+50]), array([1.03182293e+55]), array([4.75352689e+57]), array([-1.0294928e+62]), array([-6.41073582e+65]), array([1.46692506e+68])]\n",
      "[array([1.3669653]), array([-1801.65151773]), array([196107.87420435]), array([2.38113875e+10]), array([-8.27684154e+13]), array([2.209229e+17]), array([-1.81128115e+21]), array([-1.99831431e+25]), array([-2.79008502e+28]), array([7.13696616e+31]), array([2.00459068e+35]), array([1.35926376e+39]), array([-6.28617806e+42]), array([6.32930401e+46]), array([9.70425746e+48]), array([5.15911467e+53]), array([2.37676344e+56]), array([-5.14746402e+60]), array([-3.20536791e+64]), array([7.3346253e+66])]\n"
     ]
    }
   ],
   "source": [
    "import matplotlib.pyplot as plt\n",
    "a, b = run_several(20, Q, Q.z, [1], 2, 20)"
   ]
  },
  {
   "cell_type": "markdown",
   "id": "b08947f2",
   "metadata": {},
   "source": [
    "# Qubit Package\n",
    "## About\n",
    "- Python package to simulate quantum circuits\n",
    "- Contains functions to apply operators to states, take measurements of states, normalize states, take inner products\n",
    "- Currently contains functions for a particular application"
   ]
  },
  {
   "cell_type": "markdown",
   "id": "6c016b01",
   "metadata": {},
   "source": [
    "## Constructor\n",
    "- takes in an array representing the state of the qubit"
   ]
  },
  {
   "cell_type": "code",
   "execution_count": 441,
   "id": "d6be98a6",
   "metadata": {},
   "outputs": [
    {
     "data": {
      "text/latex": [
       "$1.0|000\\rangle$"
      ],
      "text/plain": [
       "<__main__.Qubit at 0x222d255a9d0>"
      ]
     },
     "execution_count": 441,
     "metadata": {},
     "output_type": "execute_result"
    }
   ],
   "source": [
    "v = np.zeros((8,1),dtype='float')\n",
    "v[0] = 1\n",
    "Q = Qubit(v)\n",
    "Q"
   ]
  },
  {
   "cell_type": "markdown",
   "id": "8efe0e54",
   "metadata": {},
   "source": [
    "## Class Members\n",
    "- state: array to represent the state of the qubit. Can be represented as a size by 1 array or nested array\n",
    "- size: number of elements in state\n",
    "- num_qubits: number of qubits represented. Related to size as size = 2^num_qubits\n",
    "- Pauli matrices: identity, x, y, z pauli matrices"
   ]
  },
  {
   "cell_type": "code",
   "execution_count": 442,
   "id": "9667594c",
   "metadata": {},
   "outputs": [
    {
     "name": "stdout",
     "output_type": "stream",
     "text": [
      "[[[1. 0.]\n",
      "  [0. 0.]]\n",
      "\n",
      " [[0. 0.]\n",
      "  [0. 0.]]]\n",
      "1.0\n"
     ]
    }
   ],
   "source": [
    "print(Q.state)"
   ]
  },
  {
   "cell_type": "markdown",
   "id": "454bccd0",
   "metadata": {},
   "source": [
    "## Operator function\n",
    "- applies an operator to an arbitrary number of qubits\n",
    "- one specifically for two, one for arbitrary number that doesn't update state, one that does\n",
    "### Parameters:\n",
    "- O: the operator, represented as a matrix\n",
    "- qubit_array: array of numbers of qubits O will act on. 1-indexed.\n",
    "- O must be 2^len(qubit_array) by 2^len(qubit_array) dimensions\n",
    "### Returns:\n",
    "- the state, in nested form, or nothing"
   ]
  },
  {
   "cell_type": "code",
   "execution_count": 447,
   "id": "01389271",
   "metadata": {},
   "outputs": [
    {
     "data": {
      "text/latex": [
       "$1.0|00000100\\rangle~+~$$1.0|00000111\\rangle$"
      ],
      "text/plain": [
       "<__main__.Qubit at 0x222d30e33d0>"
      ]
     },
     "execution_count": 447,
     "metadata": {},
     "output_type": "execute_result"
    }
   ],
   "source": [
    "v = np.zeros((2**8,1),dtype='float')\n",
    "v[4] = 1; v[7] = 1\n",
    "Q = Qubit(v)\n",
    "Q"
   ]
  },
  {
   "cell_type": "code",
   "execution_count": 448,
   "id": "271e2020",
   "metadata": {},
   "outputs": [
    {
     "data": {
      "text/latex": [
       "$1.0|10000100\\rangle~+~$$1.0|10000111\\rangle$"
      ],
      "text/plain": [
       "<__main__.Qubit at 0x222d30e33d0>"
      ]
     },
     "execution_count": 448,
     "metadata": {},
     "output_type": "execute_result"
    }
   ],
   "source": [
    "O = np.kron(Q.x, Q.z)\n",
    "Q.operator(O, [1,2])\n",
    "Q"
   ]
  },
  {
   "cell_type": "markdown",
   "id": "5d39edcd",
   "metadata": {},
   "source": [
    "## Measurement function\n",
    "- takes a measurement of a particular qubit and updates the state based off of that\n",
    "### Parameters: \n",
    "- q: the index of the qubit you wish to perform a measurement on\n",
    "### Returns:\n",
    "- prob_0: the probability we would measure 0 for the qubit\n",
    "- prob_1: the probability we would measure 1 for the qubit\n",
    "- updates the state of the qubit and normalizes it"
   ]
  },
  {
   "cell_type": "code",
   "execution_count": 452,
   "id": "85c06281",
   "metadata": {},
   "outputs": [
    {
     "data": {
      "text/latex": [
       "$1.0|100\\rangle~+~$$1.0|110\\rangle$"
      ],
      "text/plain": [
       "<__main__.Qubit at 0x222d3110e90>"
      ]
     },
     "execution_count": 452,
     "metadata": {},
     "output_type": "execute_result"
    }
   ],
   "source": [
    "v = np.zeros((8,1),dtype='float')\n",
    "v[4] = 1; v[6] = 1\n",
    "Q = Qubit(v)\n",
    "Q"
   ]
  },
  {
   "cell_type": "code",
   "execution_count": 453,
   "id": "52cf3127",
   "metadata": {},
   "outputs": [
    {
     "name": "stdout",
     "output_type": "stream",
     "text": [
      "[0.] [1.]\n"
     ]
    },
    {
     "data": {
      "text/latex": [
       "$0.7071067811865476|100\\rangle~+~$$0.7071067811865476|110\\rangle$"
      ],
      "text/plain": [
       "<__main__.Qubit at 0x222d3110e90>"
      ]
     },
     "execution_count": 453,
     "metadata": {},
     "output_type": "execute_result"
    }
   ],
   "source": [
    "a_0, a_1 = Q.measure(1)\n",
    "print(a_0, a_1)\n",
    "Q"
   ]
  },
  {
   "cell_type": "markdown",
   "id": "b0c36414",
   "metadata": {},
   "source": [
    "## Application:\n",
    "- in a nutshell, we are finding the time evolution of the expectation value of a particular operator\n",
    "- we perform numerical integration over a particular time interval\n",
    "- at each step, we time evolve the state and take the expectation value of the time-evolved state\n",
    "- we keep track of each timestamp and the expectation values and can graph them\n",
    "- running this several times and taking an average, we should get a smooth curve."
   ]
  },
  {
   "cell_type": "code",
   "execution_count": 461,
   "id": "957d7916",
   "metadata": {},
   "outputs": [
    {
     "data": {
      "text/latex": [
       "$1.0|000000\\rangle$"
      ],
      "text/plain": [
       "<__main__.Qubit at 0x222d2e60450>"
      ]
     },
     "execution_count": 461,
     "metadata": {},
     "output_type": "execute_result"
    }
   ],
   "source": [
    "v =np.zeros((2**6,1),dtype='float')\n",
    "v[0] = 1\n",
    "Q = Qubit(v)\n",
    "Q"
   ]
  },
  {
   "cell_type": "code",
   "execution_count": 457,
   "id": "c741fb82",
   "metadata": {},
   "outputs": [],
   "source": [
    "time, exps = Q.exp_value_time_ev(1, 20, Q.z, [1])"
   ]
  },
  {
   "cell_type": "code",
   "execution_count": 462,
   "id": "03d94e8b",
   "metadata": {},
   "outputs": [],
   "source": [
    "time, exps = run_several(100, Q, Q.z, [1], 2, 20)\n",
    "#steps, Q, O, qubit_array, T, N"
   ]
  },
  {
   "cell_type": "code",
   "execution_count": 463,
   "id": "b7817803",
   "metadata": {},
   "outputs": [
    {
     "data": {
      "text/plain": [
       "[<matplotlib.lines.Line2D at 0x222d35ae250>]"
      ]
     },
     "execution_count": 463,
     "metadata": {},
     "output_type": "execute_result"
    },
    {
     "data": {
      "image/png": "[encoded data removed]",
      "text/plain": [
       "<Figure size 640x480 with 1 Axes>"
      ]
     },
     "metadata": {},
     "output_type": "display_data"
    }
   ],
   "source": [
    "plt.plot(time, exps, 'k')"
   ]
  },
  {
   "cell_type": "markdown",
   "id": "fce7e758",
   "metadata": {},
   "source": [
    "## Future Todos:\n",
    "- write up docs and post on GitHub\n",
    "- rigorously test each function a bit better\n",
    "- refactor the code so the functions are more consistent with each other, the code looks cleaner\n",
    "- introduce error handling\n",
    "- look for opportunities to optimize: current approack is brute forceu\n",
    "- make things more user-friendly\n",
    "- separate hamiltonian class\n",
    "- implement mixed state"
   ]
  }
 ],
 "metadata": {
  "kernelspec": {
   "display_name": "Python 3 (ipykernel)",
   "language": "python",
   "name": "python3"
  },
  "language_info": {
   "codemirror_mode": {
    "name": "ipython",
    "version": 3
   },
   "file_extension": ".py",
   "mimetype": "text/x-python",
   "name": "python",
   "nbconvert_exporter": "python",
   "pygments_lexer": "ipython3",
   "version": "3.11.5"
  }
 },
 "nbformat": 4,
 "nbformat_minor": 5
}
